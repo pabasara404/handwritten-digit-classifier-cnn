{
  "nbformat": 4,
  "nbformat_minor": 0,
  "metadata": {
    "colab": {
      "provenance": [],
      "authorship_tag": "ABX9TyOf/sMyqfc4+MZSCs5kHy8p",
      "include_colab_link": true
    },
    "kernelspec": {
      "name": "python3",
      "display_name": "Python 3"
    },
    "language_info": {
      "name": "python"
    }
  },
  "cells": [
    {
      "cell_type": "markdown",
      "metadata": {
        "id": "view-in-github",
        "colab_type": "text"
      },
      "source": [
        "<a href=\"https://colab.research.google.com/github/pabasara404/handwritten-digit-classifier-cnn/blob/main/Handwritten_digit_classification_with_CNN.ipynb\" target=\"_parent\"><img src=\"https://colab.research.google.com/assets/colab-badge.svg\" alt=\"Open In Colab\"/></a>"
      ]
    },
    {
      "cell_type": "code",
      "execution_count": 3,
      "metadata": {
        "id": "grNpSiR0orgR",
        "colab": {
          "base_uri": "https://localhost:8080/"
        },
        "outputId": "06b4c282-8b68-4276-858e-234e97de6321"
      },
      "outputs": [
        {
          "output_type": "stream",
          "name": "stdout",
          "text": [
            "Downloading data from https://storage.googleapis.com/tensorflow/tf-keras-datasets/mnist.npz\n",
            "11490434/11490434 [==============================] - 1s 0us/step\n",
            "X_train original shape (60000, 28, 28)\n",
            "y_train original shape (60000,)\n",
            "X_test original shape (10000, 28, 28)\n",
            "y_test original shape (10000,)\n"
          ]
        }
      ],
      "source": [
        "import matplotlib.pyplot as plt\n",
        "from keras.datasets import mnist\n",
        "from keras.models import Sequential\n",
        "from keras.layers import Dense, Dropout, Activation, Flatten, BatchNormalization\n",
        "from keras.utils import np_utils\n",
        "from keras.layers import Conv2D, MaxPooling2D\n",
        "from keras.preprocessing.image import ImageDataGenerator\n",
        "\n",
        "(X_train, y_train), (X_test, y_test) = mnist.load_data()\n",
        "print(\"X_train original shape\", X_train.shape)\n",
        "print(\"y_train original shape\", y_train.shape)\n",
        "print(\"X_test original shape\", X_test.shape)\n",
        "print(\"y_test original shape\", y_test.shape)"
      ]
    },
    {
      "cell_type": "code",
      "source": [
        "plt.imshow(X_train[0], cmap='gray')\n",
        "plt.title('Class '+str(y_train[0]))\n",
        "plt.show()"
      ],
      "metadata": {
        "colab": {
          "base_uri": "https://localhost:8080/",
          "height": 452
        },
        "id": "QLpzb3QRp27u",
        "outputId": "876b2da6-4c31-4bf1-f637-14be3aba3021"
      },
      "execution_count": 4,
      "outputs": [
        {
          "output_type": "display_data",
          "data": {
            "text/plain": [
              "<Figure size 640x480 with 1 Axes>"
            ],
            "image/png": "[encoded data removed]"
          },
          "metadata": {}
        }
      ]
    },
    {
      "cell_type": "code",
      "source": [
        "features_train = X_train.reshape(X_train.shape[0], 28, 28, 1) #(batch,height, width, channel)\n",
        "features_test = X_test.reshape(X_test.shape[0], 28, 28, 1)\n",
        "\n",
        "features_train = features_train.astype('float32')\n",
        "features_test = features_test.astype('float32')\n",
        "\n",
        "features_train /= 255\n",
        "features_test /= 255\n",
        "\n",
        "targets_train = np_utils.to_categorical(y_train, 10)\n",
        "targets_test = np_utils.to_categorical(y_test, 10)\n",
        "\n",
        "model = Sequential()\n",
        "model.add(Conv2D(32, (3,3), input_shape=(28, 28, 1)))\n",
        "model.add(Activation('relu'))\n",
        "\n",
        "model.add(BatchNormalization())\n",
        "model.add(Conv2D(32, (3,3)))\n",
        "model.add(Activation('relu'))\n",
        "model.add(MaxPooling2D(pool_size=(2,2)))\n",
        "model.add(BatchNormalization())\n",
        "model.add(Conv2D(64,(3,3)))\n",
        "model.add(Activation('relu'))\n",
        "model.add(BatchNormalization())\n",
        "model.add(Conv2D(64,(3,3)))\n",
        "model.add(MaxPooling2D(pool_size=(2,2)))\n",
        "model.add(Flatten())\n",
        "model.add(BatchNormalization())\n",
        "model.add(Dense(512))\n",
        "model.add(Dropout(0.3))\n",
        "model.add(Dense(10, activation=\"softmax\"))\n",
        "\n",
        "model.summary()"
      ],
      "metadata": {
        "colab": {
          "base_uri": "https://localhost:8080/"
        },
        "id": "rHjpmEaSqfpy",
        "outputId": "4cf9b652-8ec9-454a-b6e2-9d0ac2bf11b5"
      },
      "execution_count": 8,
      "outputs": [
        {
          "output_type": "stream",
          "name": "stdout",
          "text": [
            "Model: \"sequential_1\"\n",
            "_________________________________________________________________\n",
            " Layer (type)                Output Shape              Param #   \n",
            "=================================================================\n",
            " conv2d (Conv2D)             (None, 26, 26, 32)        320       \n",
            "                                                                 \n",
            " activation (Activation)     (None, 26, 26, 32)        0         \n",
            "                                                                 \n",
            " batch_normalization (BatchN  (None, 26, 26, 32)       128       \n",
            " ormalization)                                                   \n",
            "                                                                 \n",
            " conv2d_1 (Conv2D)           (None, 24, 24, 32)        9248      \n",
            "                                                                 \n",
            " activation_1 (Activation)   (None, 24, 24, 32)        0         \n",
            "                                                                 \n",
            " max_pooling2d (MaxPooling2D  (None, 12, 12, 32)       0         \n",
            " )                                                               \n",
            "                                                                 \n",
            " batch_normalization_1 (Batc  (None, 12, 12, 32)       128       \n",
            " hNormalization)                                                 \n",
            "                                                                 \n",
            " conv2d_2 (Conv2D)           (None, 10, 10, 64)        18496     \n",
            "                                                                 \n",
            " activation_2 (Activation)   (None, 10, 10, 64)        0         \n",
            "                                                                 \n",
            " batch_normalization_2 (Batc  (None, 10, 10, 64)       256       \n",
            " hNormalization)                                                 \n",
            "                                                                 \n",
            " conv2d_3 (Conv2D)           (None, 8, 8, 64)          36928     \n",
            "                                                                 \n",
            " max_pooling2d_1 (MaxPooling  (None, 4, 4, 64)         0         \n",
            " 2D)                                                             \n",
            "                                                                 \n",
            " flatten (Flatten)           (None, 1024)              0         \n",
            "                                                                 \n",
            " batch_normalization_3 (Batc  (None, 1024)             4096      \n",
            " hNormalization)                                                 \n",
            "                                                                 \n",
            " dense (Dense)               (None, 512)               524800    \n",
            "                                                                 \n",
            " dropout (Dropout)           (None, 512)               0         \n",
            "                                                                 \n",
            " dense_1 (Dense)             (None, 10)                5130      \n",
            "                                                                 \n",
            "=================================================================\n",
            "Total params: 599,530\n",
            "Trainable params: 597,226\n",
            "Non-trainable params: 2,304\n",
            "_________________________________________________________________\n"
          ]
        }
      ]
    },
    {
      "cell_type": "code",
      "source": [
        "model.compile(loss='categorical_crossentropy', optimizer=\"adam\", metrics=['accuracy'])\n",
        "model.fit(features_train, targets_train, batch_size=128, epochs=10, validation_data=(features_test, targets_test), verbose=1)"
      ],
      "metadata": {
        "colab": {
          "base_uri": "https://localhost:8080/"
        },
        "id": "Wy6ZDkks9_B7",
        "outputId": "f914cd9c-70d8-4a67-b1d5-b311263fd3b8"
      },
      "execution_count": 11,
      "outputs": [
        {
          "output_type": "stream",
          "name": "stdout",
          "text": [
            "Epoch 1/10\n",
            "469/469 [==============================] - 200s 422ms/step - loss: 0.1634 - accuracy: 0.9661 - val_loss: 0.3758 - val_accuracy: 0.9077\n",
            "Epoch 2/10\n",
            "469/469 [==============================] - 195s 415ms/step - loss: 0.0764 - accuracy: 0.9834 - val_loss: 0.0525 - val_accuracy: 0.9876\n",
            "Epoch 3/10\n",
            "469/469 [==============================] - 233s 497ms/step - loss: 0.0561 - accuracy: 0.9861 - val_loss: 0.0422 - val_accuracy: 0.9875\n",
            "Epoch 4/10\n",
            "469/469 [==============================] - 260s 556ms/step - loss: 0.0438 - accuracy: 0.9891 - val_loss: 0.0523 - val_accuracy: 0.9869\n",
            "Epoch 5/10\n",
            "469/469 [==============================] - 198s 422ms/step - loss: 0.0386 - accuracy: 0.9899 - val_loss: 0.0510 - val_accuracy: 0.9871\n",
            "Epoch 6/10\n",
            "469/469 [==============================] - 193s 411ms/step - loss: 0.0349 - accuracy: 0.9912 - val_loss: 0.0526 - val_accuracy: 0.9882\n",
            "Epoch 7/10\n",
            "469/469 [==============================] - 192s 409ms/step - loss: 0.0338 - accuracy: 0.9915 - val_loss: 0.0507 - val_accuracy: 0.9897\n",
            "Epoch 8/10\n",
            "469/469 [==============================] - 194s 413ms/step - loss: 0.0365 - accuracy: 0.9913 - val_loss: 0.0667 - val_accuracy: 0.9859\n",
            "Epoch 9/10\n",
            "469/469 [==============================] - 194s 413ms/step - loss: 0.0356 - accuracy: 0.9921 - val_loss: 0.1019 - val_accuracy: 0.9815\n",
            "Epoch 10/10\n",
            "469/469 [==============================] - 197s 420ms/step - loss: 0.0331 - accuracy: 0.9925 - val_loss: 0.0594 - val_accuracy: 0.9886\n"
          ]
        },
        {
          "output_type": "execute_result",
          "data": {
            "text/plain": [
              "<keras.callbacks.History at 0x7818413fba30>"
            ]
          },
          "metadata": {},
          "execution_count": 11
        }
      ]
    },
    {
      "cell_type": "code",
      "source": [
        "score=model.evaluate(features_test, targets_test)\n",
        "print('Test accuracy: %.2f' %score[1])"
      ],
      "metadata": {
        "colab": {
          "base_uri": "https://localhost:8080/"
        },
        "id": "fk49pFPgACA8",
        "outputId": "575d8e3c-e375-4ced-93eb-1875150c924f"
      },
      "execution_count": 12,
      "outputs": [
        {
          "output_type": "stream",
          "name": "stdout",
          "text": [
            "313/313 [==============================] - 9s 28ms/step - loss: 0.0594 - accuracy: 0.9886\n",
            "Test accuracy: 0.99\n"
          ]
        }
      ]
    },
    {
      "cell_type": "code",
      "source": [
        "# data augmentation\n",
        "train_generator = ImageDataGenerator(rotation_range=7, width_shift_range=0.05, shear_range=0,\n",
        "                                     height_shift_range=0.07, zoom_range=0.05)\n",
        "test_generator=ImageDataGenerator()\n",
        "\n",
        "train_generator = train_generator.flow(features_train, targets_train, batch_size=64)\n",
        "test_generator =test_generator.flow(features_test, targets_test, batch_size=64)\n",
        "\n",
        "model.fit_generator(train_generator,steps_per_epoch=60000//64, epochs=5, validation_data=test_generator, validation_steps=10000//64)"
      ],
      "metadata": {
        "colab": {
          "base_uri": "https://localhost:8080/"
        },
        "id": "Hxt2fjeRBdbx",
        "outputId": "a954053f-b7a1-4b88-bf3e-a1c3e2ee63c4"
      },
      "execution_count": 14,
      "outputs": [
        {
          "output_type": "stream",
          "name": "stdout",
          "text": [
            "Epoch 1/5\n"
          ]
        },
        {
          "output_type": "stream",
          "name": "stderr",
          "text": [
            "<ipython-input-14-cccd99111e56>:9: UserWarning: `Model.fit_generator` is deprecated and will be removed in a future version. Please use `Model.fit`, which supports generators.\n",
            "  model.fit_generator(train_generator,steps_per_epoch=60000//64, epochs=5, validation_data=test_generator, validation_steps=10000//64)\n"
          ]
        },
        {
          "output_type": "stream",
          "name": "stdout",
          "text": [
            "937/937 [==============================] - 221s 235ms/step - loss: 0.1810 - accuracy: 0.9711 - val_loss: 0.0459 - val_accuracy: 0.9908\n",
            "Epoch 2/5\n",
            "937/937 [==============================] - 222s 237ms/step - loss: 0.0831 - accuracy: 0.9828 - val_loss: 0.0324 - val_accuracy: 0.9927\n",
            "Epoch 3/5\n",
            "937/937 [==============================] - 222s 237ms/step - loss: 0.0692 - accuracy: 0.9836 - val_loss: 0.0440 - val_accuracy: 0.9914\n",
            "Epoch 4/5\n",
            "937/937 [==============================] - 222s 237ms/step - loss: 0.0702 - accuracy: 0.9847 - val_loss: 0.0382 - val_accuracy: 0.9914\n",
            "Epoch 5/5\n",
            "937/937 [==============================] - 221s 236ms/step - loss: 0.0724 - accuracy: 0.9840 - val_loss: 0.0413 - val_accuracy: 0.9896\n"
          ]
        },
        {
          "output_type": "execute_result",
          "data": {
            "text/plain": [
              "<keras.callbacks.History at 0x78183c2cd420>"
            ]
          },
          "metadata": {},
          "execution_count": 14
        }
      ]
    }
  ]
}